{
  "nbformat": 4,
  "nbformat_minor": 0,
  "metadata": {
    "colab": {
      "name": "Untitled1.ipynb",
      "provenance": [],
      "collapsed_sections": [],
      "authorship_tag": "ABX9TyONe7HKO/x4BVG5FEhDGAFr",
      "include_colab_link": true
    },
    "kernelspec": {
      "name": "python3",
      "display_name": "Python 3"
    }
  },
  "cells": [
    {
      "cell_type": "markdown",
      "metadata": {
        "id": "view-in-github",
        "colab_type": "text"
      },
      "source": [
        "<a href=\"https://colab.research.google.com/github/Rakshith-Karthikeya/Assignment-Submission/blob/main/Assignment%201.ipynb\" target=\"_parent\"><img src=\"https://colab.research.google.com/assets/colab-badge.svg\" alt=\"Open In Colab\"/></a>"
      ]
    },
    {
      "cell_type": "code",
      "metadata": {
        "id": "vE7c1rGEejqG"
      },
      "source": [
        "Rainbow"
      ],
      "execution_count": null,
      "outputs": []
    },
    {
      "cell_type": "code",
      "metadata": {
        "id": "xPPP4E1ZoYK5",
        "outputId": "eaf9762c-79e6-4118-e43e-5c9651c1403d",
        "colab": {
          "base_uri": "https://localhost:8080/"
        }
      },
      "source": [
        "print(\"LETS UPGRADE\")"
      ],
      "execution_count": null,
      "outputs": [
        {
          "output_type": "stream",
          "text": [
            "LETS UPGRADE\n"
          ],
          "name": "stdout"
        }
      ]
    },
    {
      "cell_type": "code",
      "metadata": {
        "id": "y6B2V-zPoqgq"
      },
      "source": [
        "costprice=int(input(\"ENTER THE COST PRICE\"))\n",
        "sellingprice=int(input(\"ENTER THE SELLING PRICE\"))\n",
        "profit = sellingprice-costprice\n",
        "if(profit>0):\n",
        "  print(\"Profit\")\n",
        "elif(profit<0):\n",
        "  print(\"Loss\")\n",
        "else:\n",
        "  print(\"Neither\")\n",
        "  "
      ],
      "execution_count": null,
      "outputs": []
    },
    {
      "cell_type": "code",
      "metadata": {
        "id": "0FrjoL84qYJl"
      },
      "source": [
        "euros=int(input())\n",
        "rupees= 80*euros\n",
        "\n",
        "print(rupees)\n",
        "\n"
      ],
      "execution_count": null,
      "outputs": []
    }
  ]
}